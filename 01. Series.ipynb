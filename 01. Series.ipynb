{
 "cells": [
  {
   "cell_type": "markdown",
   "id": "ee149d5e",
   "metadata": {},
   "source": [
    "# Pandas\n",
    "\n",
    "파이썬에서 사용하는 데이터 분석 라이브러리"
   ]
  },
  {
   "cell_type": "code",
   "execution_count": 1,
   "id": "39b2d405",
   "metadata": {},
   "outputs": [],
   "source": [
    "import pandas as pd"
   ]
  },
  {
   "cell_type": "markdown",
   "id": "bf8181d0",
   "metadata": {},
   "source": [
    "# series\n",
    "\n",
    "1차원 데이터(정수, 실수, 문자열 등)\n",
    "\n",
    "Ex. 1월부터 4월까지 평균 온도 데이터 (-20, -10, 10, 20)"
   ]
  },
  {
   "cell_type": "code",
   "execution_count": 2,
   "id": "3225bd37",
   "metadata": {},
   "outputs": [
    {
     "name": "stdout",
     "output_type": "stream",
     "text": [
      "0   -20\n",
      "1   -10\n",
      "2    10\n",
      "3    20\n",
      "dtype: int64\n"
     ]
    }
   ],
   "source": [
    "temp = pd.Series([-20, -10, 10, 20])\n",
    "print(temp)"
   ]
  },
  {
   "cell_type": "code",
   "execution_count": 3,
   "id": "b936c05b",
   "metadata": {},
   "outputs": [],
   "source": [
    "#인덱스 자동으로 넣어줌"
   ]
  },
  {
   "cell_type": "markdown",
   "id": "82a22c0b",
   "metadata": {},
   "source": [
    "# Series에 인덱스 지정해보기\n",
    "\n",
    "index = [넣고싶은 인덱스명 문자열로 넣기(단, 데이터 개수와 맞춰서)]"
   ]
  },
  {
   "cell_type": "code",
   "execution_count": 4,
   "id": "772c62ff",
   "metadata": {},
   "outputs": [],
   "source": [
    "temp = pd.Series([-20, -10, 10, 20], index =['jan','feb','mar','april'])"
   ]
  },
  {
   "cell_type": "code",
   "execution_count": 5,
   "id": "18ba9cd1",
   "metadata": {},
   "outputs": [
    {
     "name": "stdout",
     "output_type": "stream",
     "text": [
      "jan     -20\n",
      "feb     -10\n",
      "mar      10\n",
      "april    20\n",
      "dtype: int64\n"
     ]
    }
   ],
   "source": [
    "print(temp)"
   ]
  },
  {
   "cell_type": "markdown",
   "id": "a8f6da38",
   "metadata": {},
   "source": []
  }
 ],
 "metadata": {
  "kernelspec": {
   "display_name": "Python 3 (ipykernel)",
   "language": "python",
   "name": "python3"
  },
  "language_info": {
   "codemirror_mode": {
    "name": "ipython",
    "version": 3
   },
   "file_extension": ".py",
   "mimetype": "text/x-python",
   "name": "python",
   "nbconvert_exporter": "python",
   "pygments_lexer": "ipython3",
   "version": "3.9.12"
  }
 },
 "nbformat": 4,
 "nbformat_minor": 5
}
