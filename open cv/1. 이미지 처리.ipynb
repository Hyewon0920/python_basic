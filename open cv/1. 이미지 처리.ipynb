{
 "cells": [
  {
   "cell_type": "markdown",
   "id": "9573a00f",
   "metadata": {},
   "source": [
    "# 환경설정\n",
    "\n",
    "1. anaconda 검색\n",
    "2. pip install opencv-python 입력\n",
    "3. 엔터 후 설치완료되면 창 끄기\n"
   ]
  },
  {
   "cell_type": "code",
   "execution_count": 4,
   "id": "85087f68",
   "metadata": {},
   "outputs": [
    {
     "data": {
      "text/plain": [
       "'4.6.0'"
      ]
     },
     "execution_count": 4,
     "metadata": {},
     "output_type": "execute_result"
    }
   ],
   "source": [
    "import cv2\n",
    "cv2.__version__"
   ]
  },
  {
   "cell_type": "markdown",
   "id": "930ba0e2",
   "metadata": {},
   "source": [
    "# opencv란?\n",
    "\n",
    "컴퓨터비전을 처리함\n",
    "\n",
    "- 다양한 영상, 이미지, 동영상처리에 이용되는 오픈소스 라이브러리"
   ]
  },
  {
   "cell_type": "markdown",
   "id": "20ea98f2",
   "metadata": {},
   "source": [
    "# 1. 이미지 출력\n",
    "\n",
    "1. pixabay 구글에 검색\n",
    "2. cat검색\n",
    "3. 클릭 후 무료다운로드(가장 작은 크기로)"
   ]
  },
  {
   "cell_type": "markdown",
   "id": "9564e11f",
   "metadata": {},
   "source": [
    "\n",
    "고양이 이미지 : https://pixabay.com/images/id-2083492/  \n",
    "크기 : 640 x 390  \n",
    "파일명 : img.jpg\n"
   ]
  },
  {
   "cell_type": "code",
   "execution_count": 8,
   "id": "b0b1118b",
   "metadata": {},
   "outputs": [],
   "source": [
    "import cv2\n",
    "img = cv2.imread(\"image.jpg\")"
   ]
  },
  {
   "cell_type": "code",
   "execution_count": 1,
   "id": "6f401f9d",
   "metadata": {},
   "outputs": [],
   "source": [
    "#이미지를 가져오기 위해 해야할 것들\n",
    "#cv2 import해오기\n",
    "#reac_csv처럼 cv2.imread()하면 이미지가져올 수 있음\n",
    "#plt.show처럼 imshow()를 하면 보여줌\n",
    "#imshow의 ()안에는 첫번째, 윈도우 창이 뜨는데 그 윈도우 창의 이름을 정해줘야하고\n",
    "# 두번째 보여줄 이미지 값을 넣어야 함\n",
    "import cv2\n",
    "img = cv2.imread('image.jpg')\n",
    "cv2.imshow('image', img)\n",
    "#단, 윈도우는 창이 뜰 때까지 소요시간이 있으므로 기다려줘야함\n",
    "cv2.waitKey(0)\n",
    "#0은 무한대 대기\n",
    "# 지정된 시간(ms) 동안 사용자 키 입력 대기\n",
    "cv2.destroyAllWindows() \n",
    "# 모든 창 닫기"
   ]
  },
  {
   "cell_type": "markdown",
   "id": "e62fcdbf",
   "metadata": {},
   "source": [
    "만약 imshow()오류가 뜬다면 그건 필요한 인수를 집어넣지 않았거나 혹은 이미지파일의경로가 잘못되어있을 가능성이 높다\n",
    "\n",
    "q를 누르면 윈도우 창이 사라짐\n",
    "\n",
    "waitKey()안에 원하는 시간을 넣으면 만약 사용자가 키를 누르지 않는다면 그 시간만큼(초) 기다렸다가 창이 사라짐"
   ]
  },
  {
   "cell_type": "markdown",
   "id": "e5973884",
   "metadata": {},
   "source": [
    "## 읽기 옵션\n",
    "1. cv2.IMREAD_COLOR : 컬러 이미지. 투명 영역은 무시 (기본값) -> png가져올때\n",
    "1. cv2.IMREAD_GRAYSCALE : 흑백 이미지\n",
    "1. cv2.IMREAD_UNCHANGED : 투명 영역까지 포함"
   ]
  },
  {
   "cell_type": "code",
   "execution_count": 2,
   "id": "3693f7b9",
   "metadata": {},
   "outputs": [],
   "source": [
    "import cv2\n",
    "img_color = cv2.imread('image.jpg', cv2.IMREAD_COLOR)\n",
    "img_gray = cv2.imread('image.jpg', cv2.IMREAD_GRAYSCALE)\n",
    "img_unchanged = cv2.imread('image.jpg', cv2.IMREAD_UNCHANGED)\n",
    "\n",
    "cv2.imshow('img_color', img_color)\n",
    "cv2.imshow('img_gray', img_gray)\n",
    "cv2.imshow('img_unchanged', img_unchanged)\n",
    "\n",
    "cv2.waitKey(0)\n",
    "cv2.destroyAllWindows()"
   ]
  },
  {
   "cell_type": "markdown",
   "id": "79c3576d",
   "metadata": {},
   "source": [
    "## Shape\n",
    "이미지의 height, width, channel 정보"
   ]
  },
  {
   "cell_type": "code",
   "execution_count": 3,
   "id": "220d19eb",
   "metadata": {
    "scrolled": false
   },
   "outputs": [
    {
     "data": {
      "text/plain": [
       "(391, 640, 3)"
      ]
     },
     "execution_count": 3,
     "metadata": {},
     "output_type": "execute_result"
    }
   ],
   "source": [
    "import cv2\n",
    "img = cv2.imread('image.jpg')\n",
    "img.shape # 세로, 가로, Channel"
   ]
  },
  {
   "cell_type": "markdown",
   "id": "f51a573f",
   "metadata": {},
   "source": [
    "(361, 640, 3)\n",
    "- 361은 세로 크기\n",
    "- 640은 가로 크기 (pixabay)에서 다운로드 받은 그 크기\n",
    "- 3은 rgb값을 세개 가진다는 것(빨강, 초록, 파랑) 다 섞여있단 뜻\n",
    "    - png면 투명값포함해서 아마 4로 출력될 것"
   ]
  }
 ],
 "metadata": {
  "kernelspec": {
   "display_name": "Python 3 (ipykernel)",
   "language": "python",
   "name": "python3"
  },
  "language_info": {
   "codemirror_mode": {
    "name": "ipython",
    "version": 3
   },
   "file_extension": ".py",
   "mimetype": "text/x-python",
   "name": "python",
   "nbconvert_exporter": "python",
   "pygments_lexer": "ipython3",
   "version": "3.9.12"
  }
 },
 "nbformat": 4,
 "nbformat_minor": 5
}
