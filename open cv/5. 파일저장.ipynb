{
 "cells": [
  {
   "cell_type": "markdown",
   "id": "c963816c",
   "metadata": {},
   "source": [
    "# 5. 파일 저장"
   ]
  },
  {
   "cell_type": "markdown",
   "id": "988cf236",
   "metadata": {},
   "source": [
    "## 이미지 저장\n",
    "\n",
    "- 1에서 불러온 고양이를 흑백처리해서 저장하는 법"
   ]
  },
  {
   "cell_type": "code",
   "execution_count": 1,
   "id": "a5669779",
   "metadata": {
    "scrolled": true
   },
   "outputs": [
    {
     "name": "stdout",
     "output_type": "stream",
     "text": [
      "True\n"
     ]
    }
   ],
   "source": [
    "import cv2\n",
    "img = cv2.imread('image.jpg', cv2.IMREAD_GRAYSCALE) # 흑백으로 이미지 불러오기\n",
    "# cv2.imshow('img', img)\n",
    "# cv2.waitKey(0)\n",
    "# cv2.destroyAllWindows()\n",
    "# 위는 1에서 했던 내용과 동일\n",
    "# 위 세줄은 창 띄우는 거기 때문에 저장이 목적이라면 굳이 안적어줘도 됨\n",
    "\n",
    "result = cv2.imwrite('img_save.jpg', img)\n",
    "print(result)\n",
    "#저장이 성공했으면 TRUE반환\n",
    "#창이 떠있으면 아직 저장 전이고 창을 닫아야 저장이 완료됨"
   ]
  },
  {
   "cell_type": "markdown",
   "id": "e9c7a6d6",
   "metadata": {},
   "source": [
    "# 저장포맷"
   ]
  },
  {
   "cell_type": "code",
   "execution_count": 2,
   "id": "22e92061",
   "metadata": {},
   "outputs": [],
   "source": [
    "#실전 압축 버전\n",
    "import cv2\n",
    "img = cv2.imread('image.jpg', cv2.IMREAD_GRAYSCALE) # 흑백으로 이미지 불러오기\n",
    "result = cv2.imwrite('img_save.jpg', img)"
   ]
  },
  {
   "cell_type": "markdown",
   "id": "c8019c15",
   "metadata": {},
   "source": [
    "# 동영상 저장"
   ]
  },
  {
   "cell_type": "code",
   "execution_count": null,
   "id": "8e0705cb",
   "metadata": {},
   "outputs": [],
   "source": [
    "# 1에서 동영상 불러오는 코드 그대로 짜기\n",
    "import cv2\n",
    "cap = cv2.VideoCapture('vd.mp4')\n",
    "\n",
    "while cap.isOpened():\n",
    "    ret, frame = cap.read()\n",
    "    \n",
    "    if not ret:\n",
    "        break\n",
    "    \n",
    "    out.write(frame) # 영상 데이터만 저장 (소리 X)\n",
    "    cv2.imshow('video', frame)\n",
    "    if cv2.waitKey(1) == ord('q'):\n",
    "        break\n",
    "        \n",
    "cap.release()\n",
    "cv2.destroyAllWindows()"
   ]
  },
  {
   "cell_type": "markdown",
   "id": "c1aa933a",
   "metadata": {},
   "source": [
    "### 동영상 다른 형태로 저장\n",
    "1. 코덱 정의\n",
    "- *'DIVX\" 는 print해보면 D I V X 따로따로 출력됨\n",
    "\n",
    "2. 어떤 크기, 어떤 fps로 출력할지 정의해주기\n",
    "- 영상의 width가져오기(정수값을 가져와야되므로 추후 round해주기)\n",
    "    - cap.get(cv2.CAP_PROP_FRAME_WIDTH)\n",
    "- 영상의 height가져오기(정수값을 가져와야되므로 추후 round해주기)\n",
    "    - cap.get(cv2.CAP_PROP_FRAME_HEIGHT)\n",
    "- 영상의 fps가져오기 \n",
    "    -cap.get(cv2.CAP_PROP_FPS) : 여기에 *2등을 해주면 두배속도 등 속도 조절 가능\n",
    "    \n",
    "3. 출력파일 설정\n",
    "- 저장 파일명, 코덱, FPS, 크기 (width, height)\n",
    "    - out = cv2.VideoWriter('output_fast.avi', fourcc, fps, (width, height)) \n",
    "    - forcc 는 codec\n",
    "    \n",
    "4. while안에서 앞서 설정한 out에 write(frame)해서 영상저장\n",
    "5. 저장 후 break으로 탈출\n",
    "6. out에 저장이 완료됐으면 out도 해지"
   ]
  },
  {
   "cell_type": "code",
   "execution_count": 4,
   "id": "19ab0e60",
   "metadata": {},
   "outputs": [
    {
     "name": "stdout",
     "output_type": "stream",
     "text": [
      "DIVX\n",
      "D I V X\n",
      "['DIVX']\n",
      "['D', 'I', 'V', 'X']\n"
     ]
    }
   ],
   "source": [
    "codec = 'DIVX'\n",
    "print(codec)\n",
    "print(*codec)\n",
    "print([codec])\n",
    "print([*codec])"
   ]
  },
  {
   "cell_type": "code",
   "execution_count": null,
   "id": "226ce39e",
   "metadata": {},
   "outputs": [],
   "source": [
    "import cv2\n",
    "cap = cv2.VideoCapture('vd.mp4')\n",
    "\n",
    "# 코덱 정의\n",
    "fourcc = cv2.VideoWriter_fourcc(*'DIVX')\n",
    "\n",
    "# 프레임 크기, FPS\n",
    "width = round(cap.get(cv2.CAP_PROP_FRAME_WIDTH))\n",
    "height = round(cap.get(cv2.CAP_PROP_FRAME_HEIGHT))\n",
    "fps = cap.get(cv2.CAP_PROP_FPS) * 2 # 영상 재생 속도가 2배\n",
    "\n",
    "out = cv2.VideoWriter('output_fast.avi', fourcc, fps, (width, height))\n",
    "# 저장 파일명, 코덱, FPS, 크기 (width, height)\n",
    "\n",
    "while cap.isOpened():\n",
    "    ret, frame = cap.read()\n",
    "    \n",
    "    if not ret: # 영상재생이 끝나서 받아올 게 없다면\n",
    "        break\n",
    "    \n",
    "    out.write(frame) # 영상 데이터만 저장 (소리 X)\n",
    "    cv2.imshow('video', frame)\n",
    "    if cv2.waitKey(1) == ord('q'):\n",
    "        break\n",
    "        \n",
    "out.release() # 자원 해제 out도 다 저장하고 나면 쓸모가 없으니까\n",
    "cap.release()\n",
    "cv2.destroyAllWindows()"
   ]
  }
 ],
 "metadata": {
  "kernelspec": {
   "display_name": "Python 3 (ipykernel)",
   "language": "python",
   "name": "python3"
  },
  "language_info": {
   "codemirror_mode": {
    "name": "ipython",
    "version": 3
   },
   "file_extension": ".py",
   "mimetype": "text/x-python",
   "name": "python",
   "nbconvert_exporter": "python",
   "pygments_lexer": "ipython3",
   "version": "3.9.12"
  }
 },
 "nbformat": 4,
 "nbformat_minor": 5
}
