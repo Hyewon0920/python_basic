{
 "cells": [
  {
   "cell_type": "markdown",
   "id": "f13036f8",
   "metadata": {},
   "source": [
    "# 동영상출력\n",
    "\n",
    "1. pexels 구글 검색\n",
    "2. 무료로 동영상을 제공해주는 사이트므로 아무거나 다운로드\n",
    "\n",
    "고양이 동영상 : https://www.pexels.com/video/7515833/  \n",
    "크기 : SD (360 x 640)  \n",
    "파일명 : video.mp4\n",
    "\n",
    "3. SD(제일 작은 크기)로 다운로드"
   ]
  },
  {
   "cell_type": "markdown",
   "id": "fa208683",
   "metadata": {},
   "source": [
    "- 동영상은 이미지와 다름\n",
    "    - 이미지는 하나의 프레임, 동영상은 여러 프레임이 반복적으로 보여지면서 움직이는 것처럼 보임\n",
    "    - 그렇기 때문에 반복문을 사용해 동영상을 불러옴"
   ]
  },
  {
   "cell_type": "code",
   "execution_count": 10,
   "id": "f1051e68",
   "metadata": {},
   "outputs": [
    {
     "name": "stdout",
     "output_type": "stream",
     "text": [
      "사용자 요청에 의해 종료합니다.\n"
     ]
    }
   ],
   "source": [
    "#동영상 파일출력\n",
    "import cv2\n",
    "cap = cv2.VideoCapture(\"vd.mp4\")\n",
    "\n",
    "while cap.isOpened() : #파일이 열렸는지 확인\n",
    "    ret, frame = cap.read() # 변수 두개 설정 ret 는성공여부, frame은 잘 가져왔을 때 그떄 동영상의 프레임값을 반환\n",
    "    if not ret:\n",
    "        print(\"가져올 프레임이 없어요\")\n",
    "        break\n",
    "    cv2.imshow(\"video\", frame) #while을 써서 받은 frame을 imshow를 통해 출력\n",
    "    \n",
    "#만약 중간에 동영상이 너무 길어서 끄고 싶다면? \n",
    "\n",
    "    if cv2.waitKey(10) == ord(\"q\") :\n",
    "        print(\"사용자 요청에 의해 종료합니다.\")\n",
    "        break\n",
    "#waitKey로 짧은 시간을 받아오고 q를 눌렀을 때 끄고 싶다면 q를 아스키코드로 반환해주는 함수인 ord를 써서 같은지 비교\n",
    "\n",
    "cap.release() #동영상 한번 다 출력한 후 동영상 해제(없애기)\n",
    "cv2.destroyAllWindows() # 모든 창 닫기"
   ]
  },
  {
   "cell_type": "code",
   "execution_count": 4,
   "id": "f138c238",
   "metadata": {},
   "outputs": [
    {
     "data": {
      "text/plain": [
       "113"
      ]
     },
     "execution_count": 4,
     "metadata": {},
     "output_type": "execute_result"
    }
   ],
   "source": [
    "ord(\"q\")"
   ]
  },
  {
   "cell_type": "markdown",
   "id": "1c666c49",
   "metadata": {},
   "source": [
    "### 문제 발생\n",
    "\n",
    "동영상이 너무 빨리 재생됨 -> waitKey(1)로 인해서\n",
    "- 1로 설정해두니까 각 프레임 당 1초만 보고 빠르게 넘겨버림 \n",
    "- 25로 설정하면 느리게 재생되는 걸 볼 수 있음\n",
    "- 그리고 아무키도 누르지 않으면 동영상이 재생되고 \"가져올 프레임이 없어요\"하고 끝나게 됨"
   ]
  },
  {
   "cell_type": "markdown",
   "id": "b8d24382",
   "metadata": {},
   "source": [
    "# 카메라 출력"
   ]
  },
  {
   "cell_type": "code",
   "execution_count": 11,
   "id": "11cabb72",
   "metadata": {},
   "outputs": [],
   "source": [
    "import cv2\n",
    "cap = cv2.VideoCapture(0) # 0번째 카메라 장치 (Device ID) -> 카메라가 여러대면 0 1 2 이런식으로 조정하기\n",
    "\n",
    "if not cap.isOpened(): # 카메라가 잘 열리지 않은 경우, 카메라 여는거 실패하면 걍 바로 프로그램 종료\n",
    "    exit() # 프로그램 종료\n",
    "    \n",
    "while True: # 카메라는 제한시간이 없음(영상처럼) 무한반복 시키고 특수키를 누르면 빠져나오는 형식으로 하기\n",
    "    ret, frame = cap.read()\n",
    "    if not ret:\n",
    "        break\n",
    "        \n",
    "    cv2.imshow('camera', frame)\n",
    "    if cv2.waitKey(1) == ord('q'): # 사용자가 q 를 입력하면 break을 통해 탈출\n",
    "        break\n",
    "        \n",
    "cap.release()\n",
    "cv2.destroyAllWindows()"
   ]
  },
  {
   "cell_type": "code",
   "execution_count": null,
   "id": "bd4e0fbf",
   "metadata": {},
   "outputs": [],
   "source": []
  }
 ],
 "metadata": {
  "kernelspec": {
   "display_name": "Python 3 (ipykernel)",
   "language": "python",
   "name": "python3"
  },
  "language_info": {
   "codemirror_mode": {
    "name": "ipython",
    "version": 3
   },
   "file_extension": ".py",
   "mimetype": "text/x-python",
   "name": "python",
   "nbconvert_exporter": "python",
   "pygments_lexer": "ipython3",
   "version": "3.9.12"
  }
 },
 "nbformat": 4,
 "nbformat_minor": 5
}
